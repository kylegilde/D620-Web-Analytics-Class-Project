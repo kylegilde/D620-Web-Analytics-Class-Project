{
 "cells": [
  {
   "cell_type": "code",
   "execution_count": 403,
   "metadata": {},
   "outputs": [],
   "source": [
    "### import pandas as pd\n",
    "import nltk\n",
    "from nltk.corpus import names\n",
    "from nltk.metrics.scores import (precision, recall)\n",
    "import random\n",
    "import re\n",
    "from sklearn.ensemble import RandomForestClassifier\n",
    "from sklearn.tree import DecisionTreeRegressor\n",
    "from sklearn.neighbors import KNeighborsClassifier"
   ]
  },
  {
   "cell_type": "markdown",
   "metadata": {},
   "source": [
    "## Dataset"
   ]
  },
  {
   "cell_type": "code",
   "execution_count": 404,
   "metadata": {},
   "outputs": [
    {
     "data": {
      "text/html": [
       "<div>\n",
       "<style scoped>\n",
       "    .dataframe tbody tr th:only-of-type {\n",
       "        vertical-align: middle;\n",
       "    }\n",
       "\n",
       "    .dataframe tbody tr th {\n",
       "        vertical-align: top;\n",
       "    }\n",
       "\n",
       "    .dataframe thead th {\n",
       "        text-align: right;\n",
       "    }\n",
       "</style>\n",
       "<table border=\"1\" class=\"dataframe\">\n",
       "  <thead>\n",
       "    <tr style=\"text-align: right;\">\n",
       "      <th></th>\n",
       "      <th>name</th>\n",
       "      <th>gender</th>\n",
       "    </tr>\n",
       "  </thead>\n",
       "  <tbody>\n",
       "    <tr>\n",
       "      <th>0</th>\n",
       "      <td>aamir</td>\n",
       "      <td>male</td>\n",
       "    </tr>\n",
       "    <tr>\n",
       "      <th>1</th>\n",
       "      <td>aaron</td>\n",
       "      <td>male</td>\n",
       "    </tr>\n",
       "    <tr>\n",
       "      <th>2</th>\n",
       "      <td>abbey</td>\n",
       "      <td>male</td>\n",
       "    </tr>\n",
       "    <tr>\n",
       "      <th>3</th>\n",
       "      <td>abbie</td>\n",
       "      <td>male</td>\n",
       "    </tr>\n",
       "    <tr>\n",
       "      <th>4</th>\n",
       "      <td>abbot</td>\n",
       "      <td>male</td>\n",
       "    </tr>\n",
       "  </tbody>\n",
       "</table>\n",
       "</div>"
      ],
      "text/plain": [
       "    name gender\n",
       "0  aamir   male\n",
       "1  aaron   male\n",
       "2  abbey   male\n",
       "3  abbie   male\n",
       "4  abbot   male"
      ]
     },
     "execution_count": 404,
     "metadata": {},
     "output_type": "execute_result"
    }
   ],
   "source": [
    "# female names usually end in a,i,e and male names are k,o,r,s,t\n",
    "#return the last letter in a word\n",
    "names = pd.DataFrame(([(name.lower(), 'male') for name in names.words('male.txt')] + \n",
    "        [(name.lower(), 'female') for name in names.words('female.txt')]),columns = ['name','gender'])\n",
    "names.head()"
   ]
  },
  {
   "cell_type": "markdown",
   "metadata": {},
   "source": [
    "## Features"
   ]
  },
  {
   "cell_type": "code",
   "execution_count": 405,
   "metadata": {},
   "outputs": [
    {
     "data": {
      "text/html": [
       "<div>\n",
       "<style scoped>\n",
       "    .dataframe tbody tr th:only-of-type {\n",
       "        vertical-align: middle;\n",
       "    }\n",
       "\n",
       "    .dataframe tbody tr th {\n",
       "        vertical-align: top;\n",
       "    }\n",
       "\n",
       "    .dataframe thead th {\n",
       "        text-align: right;\n",
       "    }\n",
       "</style>\n",
       "<table border=\"1\" class=\"dataframe\">\n",
       "  <thead>\n",
       "    <tr style=\"text-align: right;\">\n",
       "      <th></th>\n",
       "      <th>name</th>\n",
       "      <th>gender</th>\n",
       "      <th>suffix1</th>\n",
       "      <th>suffix2</th>\n",
       "      <th>suffix3</th>\n",
       "      <th>suffix4</th>\n",
       "      <th>prefix2</th>\n",
       "      <th>prefix3</th>\n",
       "      <th>prefix4</th>\n",
       "      <th>length</th>\n",
       "      <th>n_vowels</th>\n",
       "    </tr>\n",
       "  </thead>\n",
       "  <tbody>\n",
       "    <tr>\n",
       "      <th>0</th>\n",
       "      <td>aamir</td>\n",
       "      <td>male</td>\n",
       "      <td>r</td>\n",
       "      <td>ir</td>\n",
       "      <td>mir</td>\n",
       "      <td>amir</td>\n",
       "      <td>aa</td>\n",
       "      <td>aam</td>\n",
       "      <td>aami</td>\n",
       "      <td>5</td>\n",
       "      <td>3</td>\n",
       "    </tr>\n",
       "    <tr>\n",
       "      <th>1</th>\n",
       "      <td>aaron</td>\n",
       "      <td>male</td>\n",
       "      <td>n</td>\n",
       "      <td>on</td>\n",
       "      <td>ron</td>\n",
       "      <td>aron</td>\n",
       "      <td>aa</td>\n",
       "      <td>aar</td>\n",
       "      <td>aaro</td>\n",
       "      <td>5</td>\n",
       "      <td>3</td>\n",
       "    </tr>\n",
       "    <tr>\n",
       "      <th>2</th>\n",
       "      <td>abbey</td>\n",
       "      <td>male</td>\n",
       "      <td>y</td>\n",
       "      <td>ey</td>\n",
       "      <td>bey</td>\n",
       "      <td>bbey</td>\n",
       "      <td>ab</td>\n",
       "      <td>abb</td>\n",
       "      <td>abbe</td>\n",
       "      <td>5</td>\n",
       "      <td>2</td>\n",
       "    </tr>\n",
       "    <tr>\n",
       "      <th>3</th>\n",
       "      <td>abbie</td>\n",
       "      <td>male</td>\n",
       "      <td>e</td>\n",
       "      <td>ie</td>\n",
       "      <td>bie</td>\n",
       "      <td>bbie</td>\n",
       "      <td>ab</td>\n",
       "      <td>abb</td>\n",
       "      <td>abbi</td>\n",
       "      <td>5</td>\n",
       "      <td>3</td>\n",
       "    </tr>\n",
       "    <tr>\n",
       "      <th>4</th>\n",
       "      <td>abbot</td>\n",
       "      <td>male</td>\n",
       "      <td>t</td>\n",
       "      <td>ot</td>\n",
       "      <td>bot</td>\n",
       "      <td>bbot</td>\n",
       "      <td>ab</td>\n",
       "      <td>abb</td>\n",
       "      <td>abbo</td>\n",
       "      <td>5</td>\n",
       "      <td>2</td>\n",
       "    </tr>\n",
       "  </tbody>\n",
       "</table>\n",
       "</div>"
      ],
      "text/plain": [
       "    name gender suffix1 suffix2 suffix3 suffix4 prefix2 prefix3 prefix4  \\\n",
       "0  aamir   male       r      ir     mir    amir      aa     aam    aami   \n",
       "1  aaron   male       n      on     ron    aron      aa     aar    aaro   \n",
       "2  abbey   male       y      ey     bey    bbey      ab     abb    abbe   \n",
       "3  abbie   male       e      ie     bie    bbie      ab     abb    abbi   \n",
       "4  abbot   male       t      ot     bot    bbot      ab     abb    abbo   \n",
       "\n",
       "   length  n_vowels  \n",
       "0       5         3  \n",
       "1       5         3  \n",
       "2       5         2  \n",
       "3       5         3  \n",
       "4       5         2  "
      ]
     },
     "execution_count": 405,
     "metadata": {},
     "output_type": "execute_result"
    }
   ],
   "source": [
    "# create features such as suffix with one letter, suffix with two letters, prefix with two letters, name length etc.  \n",
    "names['suffix1'] = names['name'].str[-1]\n",
    "names['suffix2'] = names['name'].str[-2:]\n",
    "names['suffix3'] = names['name'].str[-3:]  \n",
    "names['suffix4'] = names['name'].str[-4:] \n",
    "names['prefix2'] = names['name'].str[0:2]\n",
    "names['prefix3'] = names['name'].str[0:3]\n",
    "names['prefix4'] = names['name'].str[0:4]\n",
    "names['length'] = names['name'].str.len()\n",
    "names['n_vowels'] = (names['name'].str.count(\"a\") + names['name'].str.count(\"e\") + names['name'].str.count(\"i\") + names['name'].str.count(\"o\") + names['name'].str.count(\"u\"))\n",
    "names.head()    "
   ]
  },
  {
   "cell_type": "code",
   "execution_count": 406,
   "metadata": {},
   "outputs": [],
   "source": [
    "#function that allows to select set of features \n",
    "def gender_features_custom(dataset,features_list):\n",
    "    features = []\n",
    "    \n",
    "    for index, row in dataset.iterrows():\n",
    "        dict = {item:row[item] for item in features_list}\n",
    "        features.append(dict)\n",
    "    \n",
    "    return features"
   ]
  },
  {
   "cell_type": "markdown",
   "metadata": {},
   "source": [
    "Create different sets of features."
   ]
  },
  {
   "cell_type": "code",
   "execution_count": 407,
   "metadata": {},
   "outputs": [],
   "source": [
    "#for example\n",
    "features_set1 = ['suffix2','length']\n",
    "features_set2 = ['suffix2','n_vowels','prefix2']\n",
    "features_set3 = ['n_vowels','suffix3']"
   ]
  },
  {
   "cell_type": "markdown",
   "metadata": {},
   "source": [
    "## Training dataset and testing dataset"
   ]
  },
  {
   "cell_type": "code",
   "execution_count": 408,
   "metadata": {},
   "outputs": [],
   "source": [
    "#shuffle dataset\n",
    "random.seed(4)\n",
    "#random.shuffle(names)\n",
    "\n",
    "#split intitial dataset\n",
    "train_names = names[1000:]\n",
    "test_names = names[:500]\n",
    "dev_test_names = names[500:1000]\n",
    "\n",
    "def create_set(dataset,features_list):\n",
    "    return list(zip(gender_features_custom(dataset,features_list),dataset['gender']))"
   ]
  },
  {
   "cell_type": "markdown",
   "metadata": {},
   "source": [
    "## Naive Bayes"
   ]
  },
  {
   "cell_type": "markdown",
   "metadata": {},
   "source": [
    "Run Naive Bayes Classifier for all features"
   ]
  },
  {
   "cell_type": "code",
   "execution_count": 409,
   "metadata": {},
   "outputs": [
    {
     "data": {
      "text/plain": [
       "['suffix1',\n",
       " 'suffix2',\n",
       " 'suffix3',\n",
       " 'suffix4',\n",
       " 'prefix2',\n",
       " 'prefix3',\n",
       " 'prefix4',\n",
       " 'length',\n",
       " 'n_vowels']"
      ]
     },
     "execution_count": 409,
     "metadata": {},
     "output_type": "execute_result"
    }
   ],
   "source": [
    "all_features = list(names.columns)[2:]\n",
    "all_features"
   ]
  },
  {
   "cell_type": "code",
   "execution_count": 410,
   "metadata": {},
   "outputs": [
    {
     "name": "stdout",
     "output_type": "stream",
     "text": [
      "Most Informative Features\n",
      "                 suffix2 = 'na'           female : male   =    119.4 : 1.0\n",
      "                 suffix2 = 'ia'           female : male   =     66.6 : 1.0\n",
      "                 suffix1 = 'a'            female : male   =     37.4 : 1.0\n",
      "                 suffix1 = 'k'              male : female =     30.4 : 1.0\n",
      "                 suffix2 = 'us'             male : female =     30.1 : 1.0\n",
      "                 prefix2 = 'hu'             male : female =     27.4 : 1.0\n",
      "                 suffix2 = 'ld'             male : female =     27.2 : 1.0\n",
      "                 suffix2 = 'ra'           female : male   =     26.4 : 1.0\n",
      "                 suffix2 = 'sa'           female : male   =     25.4 : 1.0\n",
      "                 suffix2 = 'rd'             male : female =     23.9 : 1.0\n",
      "                 suffix2 = 'do'             male : female =     23.9 : 1.0\n",
      "                 suffix2 = 'ta'           female : male   =     23.4 : 1.0\n",
      "                 prefix3 = 'tha'            male : female =     21.3 : 1.0\n",
      "                 suffix2 = 'rt'             male : female =     20.2 : 1.0\n",
      "                 suffix3 = 'tta'          female : male   =     19.4 : 1.0\n",
      "                 suffix4 = 'bert'           male : female =     19.3 : 1.0\n",
      "                 prefix2 = 'ya'             male : female =     19.1 : 1.0\n",
      "                 suffix4 = 'etta'         female : male   =     18.8 : 1.0\n",
      "                 suffix3 = 'ard'            male : female =     18.4 : 1.0\n",
      "                 suffix3 = 'old'            male : female =     18.2 : 1.0\n",
      "None\n"
     ]
    }
   ],
   "source": [
    "# train dataset\n",
    "train_set = create_set(train_names,all_features)\n",
    "classifier = nltk.NaiveBayesClassifier.train(create_set(train_names,all_features))\n",
    "print (classifier.show_most_informative_features(20))"
   ]
  },
  {
   "cell_type": "code",
   "execution_count": 411,
   "metadata": {},
   "outputs": [
    {
     "name": "stdout",
     "output_type": "stream",
     "text": [
      "Accuracy dev-test data:  0.454\n"
     ]
    }
   ],
   "source": [
    "print (\"Accuracy dev-test data: \", nltk.classify.accuracy(classifier, create_set(dev_test_names,all_features)))"
   ]
  },
  {
   "cell_type": "code",
   "execution_count": 412,
   "metadata": {},
   "outputs": [],
   "source": [
    "# See what was misclassified:\n",
    "#errors = []\n",
    "#for (name, tag) in dev_test_names:\n",
    "    #guess = classifier.classify(gender_features_custom(name))\n",
    "    #if guess != tag:\n",
    "        #errors.append((tag, guess, name))\n",
    "        \n",
    "#for (tag, guess, name) in sorted(errors):\n",
    "    #print ('correct=', tag, 'guess=', guess, 'name=', name)"
   ]
  },
  {
   "cell_type": "markdown",
   "metadata": {},
   "source": [
    "1. Run Naive Bayes Classifier for features set 1."
   ]
  },
  {
   "cell_type": "code",
   "execution_count": 413,
   "metadata": {},
   "outputs": [
    {
     "name": "stdout",
     "output_type": "stream",
     "text": [
      "Accuracy dev-test data:  0.54\n"
     ]
    }
   ],
   "source": [
    "train_set = create_set(train_names,features_set1)\n",
    "classifier = nltk.NaiveBayesClassifier.train(create_set(train_names,features_set1))\n",
    "print (\"Accuracy dev-test data: \", nltk.classify.accuracy(classifier, create_set(dev_test_names,features_set1)))"
   ]
  },
  {
   "cell_type": "markdown",
   "metadata": {},
   "source": [
    "2. Run Naive Bayes Classifier for features set 2."
   ]
  },
  {
   "cell_type": "code",
   "execution_count": 414,
   "metadata": {},
   "outputs": [
    {
     "name": "stdout",
     "output_type": "stream",
     "text": [
      "Accuracy dev-test data:  0.116\n"
     ]
    }
   ],
   "source": [
    "train_set = create_set(train_names,features_set2)\n",
    "classifier = nltk.NaiveBayesClassifier.train(create_set(train_names,features_set2))\n",
    "print (\"Accuracy dev-test data: \", nltk.classify.accuracy(classifier, create_set(dev_test_names,features_set2)))"
   ]
  },
  {
   "cell_type": "markdown",
   "metadata": {},
   "source": [
    "3. Run Naive Bayes Classifier for features set 3."
   ]
  },
  {
   "cell_type": "code",
   "execution_count": 415,
   "metadata": {},
   "outputs": [
    {
     "name": "stdout",
     "output_type": "stream",
     "text": [
      "Accuracy dev-test data:  0.608\n"
     ]
    }
   ],
   "source": [
    "train_set = create_set(train_names,features_set3)\n",
    "classifier = nltk.NaiveBayesClassifier.train(create_set(train_names,features_set3))\n",
    "print (\"Accuracy dev-test data: \", nltk.classify.accuracy(classifier, create_set(dev_test_names,features_set3)))"
   ]
  },
  {
   "cell_type": "markdown",
   "metadata": {},
   "source": [
    "## Decision Tree Classifier"
   ]
  },
  {
   "cell_type": "code",
   "execution_count": 237,
   "metadata": {},
   "outputs": [],
   "source": [
    "Decision_Tree = DecisionTreeRegressor(random_state = 0)"
   ]
  },
  {
   "cell_type": "markdown",
   "metadata": {},
   "source": [
    "## Random Forests"
   ]
  },
  {
   "cell_type": "code",
   "execution_count": null,
   "metadata": {},
   "outputs": [],
   "source": []
  }
 ],
 "metadata": {
  "kernelspec": {
   "display_name": "Python 3",
   "language": "python",
   "name": "python3"
  },
  "language_info": {
   "codemirror_mode": {
    "name": "ipython",
    "version": 3
   },
   "file_extension": ".py",
   "mimetype": "text/x-python",
   "name": "python",
   "nbconvert_exporter": "python",
   "pygments_lexer": "ipython3",
   "version": "3.6.5"
  }
 },
 "nbformat": 4,
 "nbformat_minor": 2
}
